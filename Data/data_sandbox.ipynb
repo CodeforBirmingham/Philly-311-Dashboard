{
 "cells": [
  {
   "cell_type": "markdown",
   "metadata": {},
   "source": [
    "Load dataset to df"
   ]
  },
  {
   "cell_type": "code",
   "execution_count": 78,
   "metadata": {
    "collapsed": true
   },
   "outputs": [],
   "source": [
    "import pandas as pd\n",
    "import matplotlib.pyplot as plt\n",
    "import seaborn as sns\n",
    "\n",
    "import numpy as np\n",
    "import pandas as pd\n",
    "import datetime\n",
    "import urllib\n",
    "import calendar\n",
    "\n",
    "from bokeh.plotting import *\n",
    "from bokeh.models import HoverTool\n",
    "from collections import OrderedDict\n"
   ]
  },
  {
   "cell_type": "code",
   "execution_count": 84,
   "metadata": {
    "collapsed": false,
    "scrolled": true
   },
   "outputs": [
    {
     "data": {
      "text/plain": [
       "array([':@computed_region_8tb6_tjh9', ':@computed_region_hrit_uzpe',\n",
       "       'address', 'agency_responsible', 'expected_datetime', 'lat', 'lon',\n",
       "       'media_url', 'requested_datetime', 'service_code', 'service_name',\n",
       "       'service_notice', 'shape', 'status', 'updated_datetime', 'zipcode'], dtype=object)"
      ]
     },
     "execution_count": 84,
     "metadata": {},
     "output_type": "execute_result"
    }
   ],
   "source": [
    "df=pd.read_pickle('311_Requests.pickle')\n",
    "\n",
    "df.columns.values"
   ]
  },
  {
   "cell_type": "code",
   "execution_count": 85,
   "metadata": {
    "collapsed": false,
    "scrolled": true
   },
   "outputs": [
    {
     "data": {
      "text/plain": [
       "['Sanitation / Dumpster Violation',\n",
       " 'Illegal Dumping',\n",
       " 'Rubbish/Recyclable Material Collection',\n",
       " 'Dead Animal in Street',\n",
       " 'Graffiti Removal',\n",
       " 'Street Defect',\n",
       " 'Information Request',\n",
       " 'Directory Assistance',\n",
       " 'Zoning Business',\n",
       " 'Abandoned Vehicle',\n",
       " 'Street Trees',\n",
       " 'Street Light Outage',\n",
       " 'Smoke Detector',\n",
       " 'Vacant House or Commercial',\n",
       " 'Alley Light Outage',\n",
       " 'Parks and Rec Safety and Maintenance',\n",
       " 'Miscellaneous',\n",
       " 'Construction Site Task Force',\n",
       " 'Stop Sign Repair',\n",
       " 'Complaint (Streets)',\n",
       " 'Vacant Lot Clean-Up',\n",
       " 'Inlet Cleaning',\n",
       " 'Hydrant Request',\n",
       " 'Other (Streets)',\n",
       " 'Maintenance Residential or Commercial',\n",
       " 'Building Construction',\n",
       " 'Zoning Residential',\n",
       " 'Police Complaint',\n",
       " 'Building Dangerous',\n",
       " 'License Residential',\n",
       " 'Infestation Residential',\n",
       " 'Traffic (Other)',\n",
       " 'Manhole Cover',\n",
       " 'Traffic Signal Emergency',\n",
       " 'Dangerous Sidewalk',\n",
       " 'Street Paving',\n",
       " 'Abandoned Bike',\n",
       " 'Boarding Room House',\n",
       " 'Fire Residential or Commercial',\n",
       " 'Salting',\n",
       " 'Daycare Residential or Commercial',\n",
       " 'Other Dangerous',\n",
       " 'Tree Dangerous',\n",
       " 'No Heat (Residential)',\n",
       " 'Line Striping',\n",
       " 'Newsstand Outdoor Cafe',\n",
       " 'Complaints against Fire or EMS',\n",
       " 'Hydrant Knocked Down (No Water)',\n",
       " 'Shoveling',\n",
       " 'No Heat Residential',\n",
       " 'Emergency Air Conditioning',\n",
       " 'Newsstand/Outdoor Café']"
      ]
     },
     "execution_count": 85,
     "metadata": {},
     "output_type": "execute_result"
    }
   ],
   "source": [
    "list(df['service_name'].unique())"
   ]
  },
  {
   "cell_type": "markdown",
   "metadata": {},
   "source": [
    "## Top10 problems by each department for last week"
   ]
  },
  {
   "cell_type": "code",
   "execution_count": 86,
   "metadata": {
    "collapsed": false
   },
   "outputs": [],
   "source": [
    "df=df.set_index('requested_datetime')"
   ]
  },
  {
   "cell_type": "code",
   "execution_count": 87,
   "metadata": {
    "collapsed": false
   },
   "outputs": [],
   "source": [
    "df.index = df.index.sort_values(ascending=False)\n",
    "today = datetime.datetime.now()"
   ]
  },
  {
   "cell_type": "markdown",
   "metadata": {},
   "source": [
    "Current month and week"
   ]
  },
  {
   "cell_type": "code",
   "execution_count": 81,
   "metadata": {
    "collapsed": false
   },
   "outputs": [],
   "source": [
    "df_week=df.loc[today:today - pd.Timedelta(days=7)].reset_index()\n",
    "df_cmonth=df.loc[today:today - pd.Timedelta(days=30)].reset_index()"
   ]
  },
  {
   "cell_type": "code",
   "execution_count": 31,
   "metadata": {
    "collapsed": false,
    "scrolled": true
   },
   "outputs": [
    {
     "data": {
      "text/plain": [
       "datetime.datetime(2016, 9, 27, 16, 39, 34, 504929)"
      ]
     },
     "execution_count": 31,
     "metadata": {},
     "output_type": "execute_result"
    }
   ],
   "source": [
    "df.loc[lastdayfrom - pd.Timedelta(days=30):lastdayfrom].reset_index()"
   ]
  },
  {
   "cell_type": "code",
   "execution_count": 133,
   "metadata": {
    "collapsed": false
   },
   "outputs": [],
   "source": [
    "agencies=df['agency_responsible'].unique()"
   ]
  },
  {
   "cell_type": "code",
   "execution_count": 141,
   "metadata": {
    "collapsed": false
   },
   "outputs": [],
   "source": [
    "agencies = df_week.groupby(['agency_responsible']).count()['zipcode'].sort_values(ascending=False)[:15]"
   ]
  },
  {
   "cell_type": "code",
   "execution_count": 147,
   "metadata": {
    "collapsed": false
   },
   "outputs": [
    {
     "data": {
      "text/plain": [
       "agency_responsible\n",
       "License & Inspections                 832\n",
       "Streets Department                    608\n",
       "Community Life Improvement Program    122\n",
       "Police Department                      90\n",
       "Parks & Recreation                     60\n",
       "First Judicial District/Courts         50\n",
       "Philly311 Contact Center               39\n",
       "Directory Assistance                   34\n",
       "Water Department (PWD)                 27\n",
       "Fire Department                        16\n",
       "Revenue                                16\n",
       "Department of Public Health            16\n",
       "Department of Records                  14\n",
       "City Council                           13\n",
       "Register of Wills/ Orphans Court        9\n",
       "Name: zipcode, dtype: int64"
      ]
     },
     "execution_count": 147,
     "metadata": {},
     "output_type": "execute_result"
    }
   ],
   "source": [
    "agencies"
   ]
  },
  {
   "cell_type": "code",
   "execution_count": null,
   "metadata": {
    "collapsed": true
   },
   "outputs": [],
   "source": []
  },
  {
   "cell_type": "code",
   "execution_count": 134,
   "metadata": {
    "collapsed": false
   },
   "outputs": [
    {
     "name": "stdout",
     "output_type": "stream",
     "text": [
      "Agency: Streets Department\n",
      "Agency: Community Life Improvement Program\n",
      "Agency: Philly311 Contact Center\n",
      "Agency: nan\n",
      "Agency: First Judicial District/Courts\n",
      "Agency: Directory Assistance\n",
      "Agency: License & Inspections\n",
      "Agency: Department of Records\n",
      "Agency: Office of Property Assessment- OPA\n",
      "Agency: Water Department (PWD)\n",
      "Agency: City Controller\n",
      "Agency: Managing Director's Office- MDO\n",
      "Agency: Probation/Parole\n",
      "Agency: Register of Wills/ Orphans Court\n",
      "Agency: Office of the Director of Finance\n",
      "Agency: City Council\n",
      "Agency: Police Department\n",
      "Agency: Office of Housing & Community Development- OHCD\n",
      "Agency: Department of Public Health\n",
      "Agency: Office of Human Resources- OHR\n",
      "Agency: Parks & Recreation\n",
      "Agency: State/Federal Government Offices\n",
      "Agency: Office of Arts, Culture & Creative Economy- OACCE\n",
      "Agency: Revenue\n",
      "Agency: Fire Department\n",
      "Agency: Mayor's Office\n",
      "Agency: Water Revenue\n",
      "Agency: Law Department/ City Solicitor\n",
      "Agency: Office of Homeless Services - OHS\n",
      "Agency: City Commissioners Office\n",
      "Agency: District Attorney's Office\n",
      "Agency: Sheriff's Department\n",
      "Agency: Human Relations Commission\n",
      "Agency: Fair Housing Commission\n",
      "Agency: Prisons\n",
      "Agency: Philadelphia Redevelopment Authority- PRA\n",
      "Agency: Free Library\n",
      "Agency: Department of Human Services- DHS\n",
      "Agency: Philadelphia Housing Development Corporation- PHDC\n",
      "Agency: City Planning Commission\n",
      "Agency: Historical Commission\n",
      "Agency: Office of Innovation and Technology- OIT\n",
      "Agency: City Representative\n",
      "Agency: Board of Revision of Taxes- BRT\n",
      "Agency: Commerce Department\n",
      "Agency: Office of the Inspector General\n",
      "Agency: Behavioral Health and Intellectual Disability Services- DBHIDS\n",
      "Agency: Public Property\n",
      "Agency: Fleet Management\n",
      "Agency: Procurement Department\n",
      "Agency: Office of Economic Opportunity- OEO\n",
      "Agency: Mayor's Office of Transportation and Utilities- MOTU\n",
      "Agency: Philadelphia Housing Authority- PHA\n",
      "Agency: Office of Emergency Management- OEM\n",
      "Agency: Philadelphia Parking Authority- PPA\n",
      "Agency: Ethics Board\n",
      "Agency: Office of Supportive Housing- OSH\n",
      "Agency: Philadelphia Courts\n",
      "Agency: Housing & Community Development\n",
      "Agency: Licenses & Inspections\n",
      "Agency: Philly311\n",
      "Agency: Philadelphia Water Department- PWD\n",
      "Agency: Licenses & Inspections- L&I\n",
      "Agency: Community Life Improvement Program- CLIP\n",
      "Agency: Mayor's Office of Reintegration Services for Ex-Offenders (R.I.S.E.)\n",
      "Agency: Philadelphia International Airport\n",
      "Agency: Revenue/ Water Revenue\n",
      "Agency: City Treasurer's Office\n",
      "Agency: Office of Innovation and Technology - OIT\n",
      "Agency: Government State/Federal Offices\n",
      "Agency: Board of Revision of Taxes - BRT\n",
      "Agency: Records Department\n",
      "Agency: Managing Director's Office\n",
      "Agency: Finance\n",
      "Agency: Office of Human Resources - OHR\n",
      "Agency: Office of Supportive Housing (OSH)\n",
      "Agency: Housing - PHA\n",
      "Agency: Office Of Housing & Community Development (OHCD)\n",
      "Agency: Department of Human Services - DHS\n",
      "Agency: Behavioral and Mental Health (DBHMRS)\n",
      "Agency: Philadelphia Historical Commission\n",
      "Agency: Myor's Office of Economic Empowerment and Opportunity\n",
      "Agency: Behavioral and Mental Health\n",
      "Agency: Neighborhood Services\n",
      "Agency: Board of Revision of Taxes (Appeals)\n",
      "Agency: Department of Human Services\n",
      "Agency: Philadelphia Water Department\n",
      "Agency: MDO- Performance Management/Philly Stat\n",
      "Agency: State/Federal Offices\n",
      "Agency: Philadelphia Housing Authority\n",
      "Agency: Office of Property Assessment\n",
      "Agency: Office of Supportive Housing\n",
      "Agency: Office of Human Resources\n",
      "Agency: Public Health\n",
      "Agency: Office of Innovation and Technology\n",
      "Agency: Office of Economic Opportunity\n",
      "Agency: City Planning Commision\n",
      "Agency: Redevelopment Authority -RDA & PHCD\n",
      "Agency: Office of Emergency Management - OEM\n",
      "Agency: City Commissioner\n",
      "Agency: Inspector General\n",
      "Agency: Airport\n",
      "Agency: Arts & Culture\n",
      "Agency: Mayor's Office of Financial Empowerment\n",
      "Agency: Public Property/ Historical Commission\n",
      "Agency: Philadelphia Redevelopment Authority\n",
      "Agency: CLIP\n",
      "Agency: Philadelphia Parking Authority\n",
      "Agency: Office of Emergency Management\n",
      "Agency: Arts, Culture & Creative Economy\n"
     ]
    }
   ],
   "source": [
    "for i in agencies:\n",
    "    print('Agency:',i)"
   ]
  },
  {
   "cell_type": "code",
   "execution_count": null,
   "metadata": {
    "collapsed": true
   },
   "outputs": [],
   "source": []
  },
  {
   "cell_type": "code",
   "execution_count": 6,
   "metadata": {
    "collapsed": false
   },
   "outputs": [
    {
     "data": {
      "text/plain": [
       "Service Notice\n",
       "None                242218\n",
       "20 Business Days     28311\n",
       "2 Business Days      15459\n",
       "5 Business Days      14302\n",
       "3 Business Days      10888\n",
       "30 Business Days      7707\n",
       "90 Business Days      4547\n",
       "60 Business Days      3812\n",
       "15 Business Days      3692\n",
       "10 Business Days      3328\n",
       "Name: Zipcode, dtype: int64"
      ]
     },
     "execution_count": 6,
     "metadata": {},
     "output_type": "execute_result"
    }
   ],
   "source": [
    "df.groupby('Service Notice').count()['Zipcode'].sort_values(ascending=False)[:10]"
   ]
  },
  {
   "cell_type": "code",
   "execution_count": null,
   "metadata": {
    "collapsed": true
   },
   "outputs": [],
   "source": []
  },
  {
   "cell_type": "code",
   "execution_count": 23,
   "metadata": {
    "collapsed": false
   },
   "outputs": [
    {
     "data": {
      "text/plain": [
       "0       1 days 16:59:45\n",
       "1       1 days 17:53:38\n",
       "2       1 days 16:37:51\n",
       "3       1 days 16:44:10\n",
       "4       1 days 15:39:01\n",
       "5       1 days 14:56:57\n",
       "6       1 days 13:58:10\n",
       "7       1 days 22:03:26\n",
       "8       1 days 21:53:42\n",
       "9       1 days 20:41:31\n",
       "10      1 days 19:02:04\n",
       "11      1 days 17:13:27\n",
       "12      1 days 17:01:38\n",
       "13      1 days 17:01:39\n",
       "14      1 days 15:49:21\n",
       "15      1 days 15:44:21\n",
       "16      1 days 13:31:43\n",
       "17      1 days 10:34:24\n",
       "18      1 days 21:41:24\n",
       "19      1 days 21:41:24\n",
       "20      1 days 21:10:45\n",
       "21      1 days 21:00:45\n",
       "22      1 days 20:56:28\n",
       "23      1 days 20:20:01\n",
       "24      1 days 23:21:41\n",
       "25      5 days 13:47:20\n",
       "26      2 days 21:18:38\n",
       "27      2 days 21:22:37\n",
       "28      3 days 15:58:02\n",
       "29      3 days 15:56:27\n",
       "             ...       \n",
       "470     0 days 00:00:28\n",
       "471     0 days 00:00:10\n",
       "472     0 days 00:00:10\n",
       "473    33 days 03:06:15\n",
       "474     0 days 00:12:40\n",
       "475     0 days 00:03:04\n",
       "476     0 days 00:00:19\n",
       "477     0 days 18:05:12\n",
       "478     0 days 00:00:21\n",
       "479     0 days 00:01:36\n",
       "480     0 days 00:00:56\n",
       "481     0 days 00:01:03\n",
       "482     0 days 00:00:13\n",
       "483     0 days 00:00:06\n",
       "484     0 days 00:01:51\n",
       "485     0 days 17:58:41\n",
       "486     0 days 00:00:19\n",
       "487     0 days 00:00:56\n",
       "488     0 days 00:00:43\n",
       "489     0 days 00:00:11\n",
       "490     0 days 00:00:09\n",
       "491     0 days 00:00:30\n",
       "492     0 days 00:00:43\n",
       "493     0 days 00:00:40\n",
       "494     0 days 00:00:23\n",
       "495     0 days 00:00:03\n",
       "496     0 days 00:00:23\n",
       "497     0 days 00:00:12\n",
       "498   311 days 01:46:41\n",
       "499    49 days 13:18:36\n",
       "dtype: timedelta64[ns]"
      ]
     },
     "execution_count": 23,
     "metadata": {},
     "output_type": "execute_result"
    }
   ],
   "source": [
    "pd.to_datetime(df_ss['Updated Date/Time'])-pd.to_datetime(df_ss['Requested Date/Time'])"
   ]
  }
 ],
 "metadata": {
  "anaconda-cloud": {},
  "kernelspec": {
   "display_name": "Python [Root]",
   "language": "python",
   "name": "Python [Root]"
  },
  "language_info": {
   "codemirror_mode": {
    "name": "ipython",
    "version": 3
   },
   "file_extension": ".py",
   "mimetype": "text/x-python",
   "name": "python",
   "nbconvert_exporter": "python",
   "pygments_lexer": "ipython3",
   "version": "3.5.2"
  }
 },
 "nbformat": 4,
 "nbformat_minor": 0
}
