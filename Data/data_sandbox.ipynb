{
 "cells": [
  {
   "cell_type": "markdown",
   "metadata": {},
   "source": [
    "Load dataset to df"
   ]
  },
  {
   "cell_type": "code",
   "execution_count": 1,
   "metadata": {
    "collapsed": false,
    "scrolled": true
   },
   "outputs": [],
   "source": [
    "import pandas as pd\n",
    "import matplotlib.pyplot as plt\n",
    "import seaborn as sns\n",
    "from datetime import datetime\n",
    "\n",
    "df=pd.read_csv('311_Requests.csv', index_col='Service Request ID')\n",
    "\n",
    "df['Requested Date/Time']=pd.to_datetime(df['Requested Date/Time'])\n",
    "df['Updated Date/Time']=pd.to_datetime(df['Updated Date/Time'])\n",
    "df['Expected Date/Time']=pd.to_datetime(df['Expected Date/Time'])"
   ]
  },
  {
   "cell_type": "code",
   "execution_count": null,
   "metadata": {
    "collapsed": true
   },
   "outputs": [],
   "source": []
  },
  {
   "cell_type": "code",
   "execution_count": 64,
   "metadata": {
    "collapsed": false
   },
   "outputs": [],
   "source": [
    "df=df.sort_values(by='Requested Date/Time',ascending=False)"
   ]
  },
  {
   "cell_type": "code",
   "execution_count": 69,
   "metadata": {
    "collapsed": false
   },
   "outputs": [
    {
     "data": {
      "text/plain": [
       "str"
      ]
     },
     "execution_count": 69,
     "metadata": {},
     "output_type": "execute_result"
    }
   ],
   "source": [
    "type(df['Updated Date/Time'][10954460])"
   ]
  },
  {
   "cell_type": "code",
   "execution_count": null,
   "metadata": {
    "collapsed": true
   },
   "outputs": [],
   "source": []
  },
  {
   "cell_type": "code",
   "execution_count": null,
   "metadata": {
    "collapsed": true
   },
   "outputs": [],
   "source": []
  },
  {
   "cell_type": "code",
   "execution_count": 57,
   "metadata": {
    "collapsed": false
   },
   "outputs": [
    {
     "data": {
      "text/plain": [
       "pandas.tslib.Timestamp"
      ]
     },
     "execution_count": 57,
     "metadata": {},
     "output_type": "execute_result"
    }
   ],
   "source": [
    "type(df['Requested Date/Time'][10901544])"
   ]
  },
  {
   "cell_type": "code",
   "execution_count": 33,
   "metadata": {
    "collapsed": false
   },
   "outputs": [
    {
     "data": {
      "text/plain": [
       "array(['Requested Date/Time', 'Service Name', 'Service Code',\n",
       "       'Agency Responsible', 'Status', 'Service Notice',\n",
       "       'Updated Date/Time', 'Expected Date/Time', 'Address', 'Zipcode',\n",
       "       'Media URL', 'Location', 'Latitude', 'Longitude', 'Zipcodes',\n",
       "       'Census Tracts 2010 - 2013'], dtype=object)"
      ]
     },
     "execution_count": 33,
     "metadata": {},
     "output_type": "execute_result"
    }
   ],
   "source": [
    "df.columns.values"
   ]
  },
  {
   "cell_type": "code",
   "execution_count": 34,
   "metadata": {
    "collapsed": false,
    "scrolled": true
   },
   "outputs": [
    {
     "data": {
      "text/plain": [
       "['Sanitation / Dumpster Violation',\n",
       " 'Illegal Dumping',\n",
       " 'Rubbish/Recyclable Material Collection',\n",
       " 'Dead Animal in Street',\n",
       " 'Graffiti Removal',\n",
       " 'Street Defect',\n",
       " 'Information Request',\n",
       " 'Directory Assistance',\n",
       " 'Zoning Business',\n",
       " 'Abandoned Vehicle',\n",
       " 'Street Trees',\n",
       " 'Street Light Outage',\n",
       " 'Smoke Detector',\n",
       " 'Vacant House or Commercial',\n",
       " 'Alley Light Outage',\n",
       " 'Parks and Rec Safety and Maintenance',\n",
       " 'Miscellaneous',\n",
       " 'Construction Site Task Force',\n",
       " 'Stop Sign Repair',\n",
       " 'Complaint (Streets)',\n",
       " 'Vacant Lot Clean-Up',\n",
       " 'Inlet Cleaning',\n",
       " 'Hydrant Request',\n",
       " 'Other (Streets)',\n",
       " 'Maintenance Residential or Commercial',\n",
       " 'Building Construction',\n",
       " 'Zoning Residential',\n",
       " 'Police Complaint',\n",
       " 'Building Dangerous',\n",
       " 'License Residential',\n",
       " 'Infestation Residential',\n",
       " 'Traffic (Other)',\n",
       " 'Manhole Cover',\n",
       " 'Traffic Signal Emergency',\n",
       " 'Dangerous Sidewalk',\n",
       " 'Street Paving',\n",
       " 'Abandoned Bike',\n",
       " 'Boarding Room House',\n",
       " 'Fire Residential or Commercial',\n",
       " 'Salting',\n",
       " 'Daycare Residential or Commercial',\n",
       " 'Other Dangerous',\n",
       " 'Tree Dangerous',\n",
       " 'No Heat (Residential)',\n",
       " 'Line Striping',\n",
       " 'Newsstand Outdoor Cafe',\n",
       " 'Complaints against Fire or EMS',\n",
       " 'Hydrant Knocked Down (No Water)',\n",
       " 'Shoveling',\n",
       " 'No Heat Residential',\n",
       " 'Emergency Air Conditioning',\n",
       " 'Newsstand/Outdoor Café']"
      ]
     },
     "execution_count": 34,
     "metadata": {},
     "output_type": "execute_result"
    }
   ],
   "source": [
    "list(df['Service Name'].unique())"
   ]
  },
  {
   "cell_type": "code",
   "execution_count": 35,
   "metadata": {
    "collapsed": false
   },
   "outputs": [
    {
     "data": {
      "text/plain": [
       "1043843"
      ]
     },
     "execution_count": 35,
     "metadata": {},
     "output_type": "execute_result"
    }
   ],
   "source": [
    "len(df['Service Name'])"
   ]
  },
  {
   "cell_type": "markdown",
   "metadata": {},
   "source": [
    "## Top10 problems here"
   ]
  },
  {
   "cell_type": "code",
   "execution_count": 36,
   "metadata": {
    "collapsed": false
   },
   "outputs": [
    {
     "data": {
      "text/plain": [
       "Service Name\n",
       "Information Request                       220606\n",
       "Maintenance Residential or Commercial      18938\n",
       "Rubbish/Recyclable Material Collection     15934\n",
       "Illegal Dumping                             8588\n",
       "Street Defect                               8380\n",
       "Directory Assistance                        7968\n",
       "Abandoned Vehicle                           7301\n",
       "Street Light Outage                         5995\n",
       "Vacant Lot Clean-Up                         4571\n",
       "Vacant House or Commercial                  4370\n",
       "Name: Zipcode, dtype: int64"
      ]
     },
     "execution_count": 36,
     "metadata": {},
     "output_type": "execute_result"
    }
   ],
   "source": [
    "df.groupby('Service Name').count()['Zipcode'].sort_values(ascending=False)[:10]"
   ]
  },
  {
   "cell_type": "code",
   "execution_count": null,
   "metadata": {
    "collapsed": true
   },
   "outputs": [],
   "source": []
  },
  {
   "cell_type": "code",
   "execution_count": null,
   "metadata": {
    "collapsed": true
   },
   "outputs": [],
   "source": []
  },
  {
   "cell_type": "code",
   "execution_count": 6,
   "metadata": {
    "collapsed": false
   },
   "outputs": [
    {
     "data": {
      "text/plain": [
       "Service Notice\n",
       "None                242218\n",
       "20 Business Days     28311\n",
       "2 Business Days      15459\n",
       "5 Business Days      14302\n",
       "3 Business Days      10888\n",
       "30 Business Days      7707\n",
       "90 Business Days      4547\n",
       "60 Business Days      3812\n",
       "15 Business Days      3692\n",
       "10 Business Days      3328\n",
       "Name: Zipcode, dtype: int64"
      ]
     },
     "execution_count": 6,
     "metadata": {},
     "output_type": "execute_result"
    }
   ],
   "source": [
    "df.groupby('Service Notice').count()['Zipcode'].sort_values(ascending=False)[:10]"
   ]
  },
  {
   "cell_type": "code",
   "execution_count": null,
   "metadata": {
    "collapsed": true
   },
   "outputs": [],
   "source": []
  },
  {
   "cell_type": "code",
   "execution_count": 23,
   "metadata": {
    "collapsed": false
   },
   "outputs": [
    {
     "data": {
      "text/plain": [
       "0       1 days 16:59:45\n",
       "1       1 days 17:53:38\n",
       "2       1 days 16:37:51\n",
       "3       1 days 16:44:10\n",
       "4       1 days 15:39:01\n",
       "5       1 days 14:56:57\n",
       "6       1 days 13:58:10\n",
       "7       1 days 22:03:26\n",
       "8       1 days 21:53:42\n",
       "9       1 days 20:41:31\n",
       "10      1 days 19:02:04\n",
       "11      1 days 17:13:27\n",
       "12      1 days 17:01:38\n",
       "13      1 days 17:01:39\n",
       "14      1 days 15:49:21\n",
       "15      1 days 15:44:21\n",
       "16      1 days 13:31:43\n",
       "17      1 days 10:34:24\n",
       "18      1 days 21:41:24\n",
       "19      1 days 21:41:24\n",
       "20      1 days 21:10:45\n",
       "21      1 days 21:00:45\n",
       "22      1 days 20:56:28\n",
       "23      1 days 20:20:01\n",
       "24      1 days 23:21:41\n",
       "25      5 days 13:47:20\n",
       "26      2 days 21:18:38\n",
       "27      2 days 21:22:37\n",
       "28      3 days 15:58:02\n",
       "29      3 days 15:56:27\n",
       "             ...       \n",
       "470     0 days 00:00:28\n",
       "471     0 days 00:00:10\n",
       "472     0 days 00:00:10\n",
       "473    33 days 03:06:15\n",
       "474     0 days 00:12:40\n",
       "475     0 days 00:03:04\n",
       "476     0 days 00:00:19\n",
       "477     0 days 18:05:12\n",
       "478     0 days 00:00:21\n",
       "479     0 days 00:01:36\n",
       "480     0 days 00:00:56\n",
       "481     0 days 00:01:03\n",
       "482     0 days 00:00:13\n",
       "483     0 days 00:00:06\n",
       "484     0 days 00:01:51\n",
       "485     0 days 17:58:41\n",
       "486     0 days 00:00:19\n",
       "487     0 days 00:00:56\n",
       "488     0 days 00:00:43\n",
       "489     0 days 00:00:11\n",
       "490     0 days 00:00:09\n",
       "491     0 days 00:00:30\n",
       "492     0 days 00:00:43\n",
       "493     0 days 00:00:40\n",
       "494     0 days 00:00:23\n",
       "495     0 days 00:00:03\n",
       "496     0 days 00:00:23\n",
       "497     0 days 00:00:12\n",
       "498   311 days 01:46:41\n",
       "499    49 days 13:18:36\n",
       "dtype: timedelta64[ns]"
      ]
     },
     "execution_count": 23,
     "metadata": {},
     "output_type": "execute_result"
    }
   ],
   "source": [
    "pd.to_datetime(df_ss['Updated Date/Time'])-pd.to_datetime(df_ss['Requested Date/Time'])"
   ]
  }
 ],
 "metadata": {
  "anaconda-cloud": {},
  "kernelspec": {
   "display_name": "Python [Root]",
   "language": "python",
   "name": "Python [Root]"
  },
  "language_info": {
   "codemirror_mode": {
    "name": "ipython",
    "version": 3
   },
   "file_extension": ".py",
   "mimetype": "text/x-python",
   "name": "python",
   "nbconvert_exporter": "python",
   "pygments_lexer": "ipython3",
   "version": "3.5.2"
  }
 },
 "nbformat": 4,
 "nbformat_minor": 0
}
