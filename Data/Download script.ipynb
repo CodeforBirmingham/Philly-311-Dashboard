{
 "cells": [
  {
   "cell_type": "markdown",
   "metadata": {},
   "source": [
    "Download dataset to csv file"
   ]
  },
  {
   "cell_type": "code",
   "execution_count": 1,
   "metadata": {
    "collapsed": false
   },
   "outputs": [],
   "source": [
    "import numpy as np\n",
    "import pandas as pd\n",
    "import datetime\n",
    "import urllib\n",
    "\n",
    "query = (\"https://data.phila.gov/resource/4t9v-rppq.json?$where=requested_datetime%20between%20%272016-09-01T00:00:00%27%20and%20%272016-10-01T00:00:00%27\")\n",
    "df = pd.read_json(query, convert_dates=['expected_datetime','requested_datetime','updated_datetime'])\n",
    "\n",
    "df.to_pickle('311_Requests.pickle')\n",
    "df.to_csv('311_Requests.csv')"
   ]
  }
 ],
 "metadata": {
  "kernelspec": {
   "display_name": "Python [Root]",
   "language": "python",
   "name": "Python [Root]"
  },
  "language_info": {
   "codemirror_mode": {
    "name": "ipython",
    "version": 3.0
   },
   "file_extension": ".py",
   "mimetype": "text/x-python",
   "name": "python",
   "nbconvert_exporter": "python",
   "pygments_lexer": "ipython3",
   "version": "3.5.2"
  }
 },
 "nbformat": 4,
 "nbformat_minor": 0
}